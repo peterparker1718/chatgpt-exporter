{
  "nbformat": 4,
  "nbformat_minor": 0,
  "metadata": {
    "colab": {
      "provenance": [],
      "cell_execution_strategy": "setup",
      "toc_visible": true,
      "include_colab_link": true
    },
    "language_info": {
      "name": "python"
    },
    "kernelspec": {
      "name": "python3",
      "display_name": "Python 3"
    }
  },
  "cells": [
    {
      "cell_type": "markdown",
      "metadata": {
        "id": "view-in-github",
        "colab_type": "text"
      },
      "source": [
        "<a href=\"https://colab.research.google.com/github/peterparker1718/chatgpt-exporter/blob/master/Search_Framework.ipynb\" target=\"_parent\"><img src=\"https://colab.research.google.com/assets/colab-badge.svg\" alt=\"Open In Colab\"/></a>"
      ]
    },
    {
      "cell_type": "markdown",
      "metadata": {
        "id": "wH8vwUGbj1Zr"
      },
      "source": [
        "# Setup\n",
        "\n",
        "Please ensure you have imported a Gemini API key from AI Studio.\n",
        "You can do this directly in the Secrets tab on the left.\n",
        "\n",
        "After doing so, please run the setup cell below."
      ]
    },
    {
      "cell_type": "code",
      "metadata": {
        "colab": {
          "base_uri": "https://localhost:8080/"
        },
        "id": "mufc-7-8j1Zs",
        "outputId": "57fbf4bc-694d-479f-9bf7-77ea525d804b"
      },
      "source": [
        "!pip install -U -q \"google\"\n",
        "!pip install -U -q \"google.genai\"\n",
        "\n",
        "import os\n",
        "from google.colab import userdata\n",
        "from google.colab import drive\n",
        "os.environ[\"GEMINI_API_KEY\"] = userdata.get(\"GOOGLE_API_KEY\")\n",
        "\n",
        "drive.mount(\"/content/drive\")\n",
        "# Please ensure that uploaded files are available in the AI Studio folder or change the working folder.\n",
        "os.chdir(\"/content/drive/MyDrive/Google AI Studio\")"
      ],
      "execution_count": null,
      "outputs": [
        {
          "output_type": "stream",
          "name": "stdout",
          "text": [
            "Mounted at /content/drive\n"
          ]
        }
      ]
    },
    {
      "cell_type": "markdown",
      "metadata": {
        "id": "6n0AC5nRj1Zs"
      },
      "source": [
        "# Generated Code"
      ]
    },
    {
      "cell_type": "code",
      "metadata": {
        "id": "60oR8EIgj1Zs"
      },
      "source": [
        "# To run this code you need to install the following dependencies:\n",
        "# pip install google-genai\n",
        "\n",
        "import base64\n",
        "import os\n",
        "from google import genai\n",
        "from google.genai import types\n",
        "\n",
        "\n",
        "def generate():\n",
        "    client = genai.Client(\n",
        "        api_key=os.environ.get(\"GEMINI_API_KEY\"),\n",
        "    )\n",
        "\n",
        "    model = \"gemini-2.5-pro\"\n",
        "    contents = [\n",
        "        types.Content(\n",
        "            role=\"user\",\n",
        "            parts=[\n",
        "                types.Part.from_text(text=\"\"\"INSERT_INPUT_HERE\"\"\"),\n",
        "            ],\n",
        "        ),\n",
        "    ]\n",
        "    generate_content_config = types.GenerateContentConfig(\n",
        "        thinking_config = types.ThinkingConfig(\n",
        "            thinking_budget=-1,\n",
        "        ),\n",
        "        response_mime_type=\"text/plain\",\n",
        "    )\n",
        "\n",
        "    for chunk in client.models.generate_content_stream(\n",
        "        model=model,\n",
        "        contents=contents,\n",
        "        config=generate_content_config,\n",
        "    ):\n",
        "        print(chunk.text, end=\"\")\n",
        "\n",
        "if __name__ == \"__main__\":\n",
        "    generate()\n"
      ],
      "execution_count": null,
      "outputs": []
    },
    {
      "cell_type": "markdown",
      "metadata": {
        "id": "e5bcf024"
      },
      "source": [
        "# Task\n",
        "Analyze the content of selected files in my Google Drive to extract keywords and key data points, and generate retrieval prompts to best search my Google Drive."
      ]
    },
    {
      "cell_type": "markdown",
      "metadata": {
        "id": "58203d26"
      },
      "source": [
        "## List and select files\n",
        "\n",
        "### Subtask:\n",
        "List the files available in the connected Google Drive folder and allow the user to select which files to process.\n"
      ]
    },
    {
      "cell_type": "markdown",
      "metadata": {
        "id": "fd2781a8"
      },
      "source": [
        "**Reasoning**:\n",
        "List the files and directories in the current working directory, print the list of files with an index number next to each file, prompt the user to enter the numbers corresponding to the files they want to process, separated by commas, and based on the user's input, create a list of the selected filenames.\n",
        "\n"
      ]
    },
    {
      "cell_type": "code",
      "metadata": {
        "id": "6aecfb0b"
      },
      "source": [
        "import os\n",
        "\n",
        "files_and_directories = os.listdir()\n",
        "files = [f for f in files_and_directories if os.path.isfile(f)]\n",
        "\n",
        "print(\"Available files:\")\n",
        "for i, file_name in enumerate(files):\n",
        "    print(f\"{i}: {file_name}\")\n",
        "\n",
        "selected_indices_input = input(\"Enter the numbers of the files you want to process, separated by commas: \")\n",
        "selected_indices_str = [index.strip() for index in selected_indices_input.split(\",\")]\n",
        "\n",
        "selected_files = []\n",
        "for index_str in selected_indices_str:\n",
        "    try:\n",
        "        index = int(index_str)\n",
        "        if 0 <= index < len(files):\n",
        "            selected_files.append(files[index])\n",
        "        else:\n",
        "            print(f\"Warning: Invalid index entered: {index_str}. Skipping.\")\n",
        "    except ValueError:\n",
        "        print(f\"Warning: Invalid input entered: {index_str}. Please enter numbers separated by commas. Skipping.\")\n",
        "\n",
        "\n",
        "print(\"\\nSelected files:\")\n",
        "if selected_files:\n",
        "    for file_name in selected_files:\n",
        "        print(file_name)\n",
        "else:\n",
        "    print(\"No valid files selected.\")"
      ],
      "execution_count": null,
      "outputs": []
    }
  ]
}